{
 "cells": [
  {
   "cell_type": "code",
   "execution_count": 71,
   "metadata": {},
   "outputs": [],
   "source": [
    "# importing the important liabraries"
   ]
  },
  {
   "cell_type": "code",
   "execution_count": 72,
   "metadata": {},
   "outputs": [],
   "source": [
    "import pandas as pd\n",
    "import matplotlib.pyplot as plt\n",
    "import nltk\n",
    "from nltk.corpus import stopwords"
   ]
  },
  {
   "cell_type": "code",
   "execution_count": 73,
   "metadata": {},
   "outputs": [
    {
     "data": {
      "text/html": [
       "<div>\n",
       "<style scoped>\n",
       "    .dataframe tbody tr th:only-of-type {\n",
       "        vertical-align: middle;\n",
       "    }\n",
       "\n",
       "    .dataframe tbody tr th {\n",
       "        vertical-align: top;\n",
       "    }\n",
       "\n",
       "    .dataframe thead th {\n",
       "        text-align: right;\n",
       "    }\n",
       "</style>\n",
       "<table border=\"1\" class=\"dataframe\">\n",
       "  <thead>\n",
       "    <tr style=\"text-align: right;\">\n",
       "      <th></th>\n",
       "      <th>Phrase</th>\n",
       "      <th>Detected_metaphors</th>\n",
       "    </tr>\n",
       "  </thead>\n",
       "  <tbody>\n",
       "    <tr>\n",
       "      <th>0</th>\n",
       "      <td>When on earth they fade and perish.</td>\n",
       "      <td>1</td>\n",
       "    </tr>\n",
       "    <tr>\n",
       "      <th>1</th>\n",
       "      <td>A larger rock then heaving from the plain.</td>\n",
       "      <td>1</td>\n",
       "    </tr>\n",
       "    <tr>\n",
       "      <th>2</th>\n",
       "      <td>The classroom was a zoo.</td>\n",
       "      <td>1</td>\n",
       "    </tr>\n",
       "    <tr>\n",
       "      <th>3</th>\n",
       "      <td>The alligator's teeth are white daggers.</td>\n",
       "      <td>1</td>\n",
       "    </tr>\n",
       "    <tr>\n",
       "      <th>4</th>\n",
       "      <td>She is a peacock.</td>\n",
       "      <td>1</td>\n",
       "    </tr>\n",
       "  </tbody>\n",
       "</table>\n",
       "</div>"
      ],
      "text/plain": [
       "                                       Phrase  Detected_metaphors\n",
       "0         When on earth they fade and perish.                   1\n",
       "1  A larger rock then heaving from the plain.                   1\n",
       "2                    The classroom was a zoo.                   1\n",
       "3    The alligator's teeth are white daggers.                   1\n",
       "4                           She is a peacock.                   1"
      ]
     },
     "execution_count": 73,
     "metadata": {},
     "output_type": "execute_result"
    }
   ],
   "source": [
    "# reading the csv file\n",
    "df = pd.read_csv(\"Metaphor dataset.csv\")\n",
    "df.head()"
   ]
  },
  {
   "cell_type": "code",
   "execution_count": 74,
   "metadata": {},
   "outputs": [
    {
     "data": {
      "text/plain": [
       "(517, 2)"
      ]
     },
     "execution_count": 74,
     "metadata": {},
     "output_type": "execute_result"
    }
   ],
   "source": [
    "# shape of the dataset\n",
    "df.shape\n"
   ]
  },
  {
   "cell_type": "code",
   "execution_count": 75,
   "metadata": {},
   "outputs": [
    {
     "data": {
      "text/plain": [
       "Phrase                0\n",
       "Detected_metaphors    0\n",
       "dtype: int64"
      ]
     },
     "execution_count": 75,
     "metadata": {},
     "output_type": "execute_result"
    }
   ],
   "source": [
    "# checking is there any null value present\n",
    "df.isnull().sum()\n"
   ]
  },
  {
   "cell_type": "code",
   "execution_count": 76,
   "metadata": {},
   "outputs": [],
   "source": [
    "# dropping the duplicate values\n",
    "df = df.drop_duplicates()"
   ]
  },
  {
   "cell_type": "code",
   "execution_count": 77,
   "metadata": {},
   "outputs": [
    {
     "data": {
      "text/plain": [
       "1    335\n",
       "0    166\n",
       "Name: Detected_metaphors, dtype: int64"
      ]
     },
     "execution_count": 77,
     "metadata": {},
     "output_type": "execute_result"
    }
   ],
   "source": [
    "# counting the value of each class\n",
    "df[\"Detected_metaphors\"].value_counts()\n"
   ]
  },
  {
   "cell_type": "code",
   "execution_count": 78,
   "metadata": {},
   "outputs": [
    {
     "name": "stdout",
     "output_type": "stream",
     "text": [
      "sample per class : [166 335]\n"
     ]
    }
   ],
   "source": [
    "import numpy as np\n",
    "print(\"sample per class : {}\".format(np.bincount(df.Detected_metaphors)))"
   ]
  },
  {
   "cell_type": "code",
   "execution_count": 79,
   "metadata": {},
   "outputs": [
    {
     "data": {
      "text/plain": [
       "Text(0.5, 1.0, 'metaphor/non metaphor ratio')"
      ]
     },
     "execution_count": 79,
     "metadata": {},
     "output_type": "execute_result"
    },
    {
     "data": {
      "image/png": "[encoded data removed]",
      "text/plain": [
       "<Figure size 432x288 with 1 Axes>"
      ]
     },
     "metadata": {
      "needs_background": "light"
     },
     "output_type": "display_data"
    }
   ],
   "source": [
    "# visualising the class disrtbuttion\n",
    "import seaborn as sns\n",
    "sns.countplot(x=df[\"Detected_metaphors\"]).set_title(\"metaphor/non metaphor ratio\")"
   ]
  },
  {
   "cell_type": "code",
   "execution_count": 80,
   "metadata": {},
   "outputs": [],
   "source": [
    "# function use in the text cleaning\n",
    "def text_cleaning(a):\n",
    "    remove_punctuation = [char for char in a if char not in string.punctuation]\n",
    "    remove_punctuation = \"\".join(remove_punctuation)\n",
    "    return [word for word in remove_punctuation.split() if word.lower() not in  stopwords.words(\"english\") ]\n",
    "    "
   ]
  },
  {
   "cell_type": "code",
   "execution_count": 81,
   "metadata": {},
   "outputs": [
    {
     "name": "stdout",
     "output_type": "stream",
     "text": [
      "0                                  [earth, fade, perish]\n",
      "1                         [larger, rock, heaving, plain]\n",
      "2                                       [classroom, zoo]\n",
      "3                    [alligators, teeth, white, daggers]\n",
      "4                                              [peacock]\n",
      "5                                      [teacher, dragon]\n",
      "6                               [Marys, eyes, fireflies]\n",
      "7                    [computers, school, old, dinosaurs]\n",
      "8                                           [night, owl]\n",
      "9                                       [Maria, chicken]\n",
      "10                                 [wind, howling, wolf]\n",
      "11             [ballerina, swan, gliding, across, stage]\n",
      "12                                  [Jamal, pig, dinner]\n",
      "13                          [kids, monkeys, jungle, gym]\n",
      "14                                      [dad, road, hog]\n",
      "15                         [stormy, ocean, raging, bull]\n",
      "16                               [thunder, mighty, lion]\n",
      "17                 [Johns, suggestion, BandAid, problem]\n",
      "18                 [cast, broken, leg, plaster, shackle]\n",
      "19                               [Laughter, music, soul]\n",
      "20                               [America, melting, pot]\n",
      "21                          [lovely, voice, music, ears]\n",
      "22                                        [world, stage]\n",
      "23                          [kids, room, disaster, area]\n",
      "24                                 [Life, rollercoaster]\n",
      "25                                        [home, prison]\n",
      "26                                   [heart, cold, iron]\n",
      "27      [five, oclock, interstate, always, parking, lot]\n",
      "28                            [Books, keys, imagination]\n",
      "29                               [angry, words, bullets]\n",
      "                             ...                        \n",
      "487                                           [deceived]\n",
      "488                                [Neither, boy, spoke]\n",
      "489                                      [Call, Ishmael]\n",
      "490    [incessant, ticking, chiming, echoed, weathere...\n",
      "491                              [Flogging, dead, horse]\n",
      "492                                      [Food, thought]\n",
      "493                                         [Fork, road]\n",
      "494                                     [Full, gunwales]\n",
      "495                                  [Give, wide, berth]\n",
      "496                                          [Go, board]\n",
      "497                                         [Hand, fist]\n",
      "498                                         [Hard, fast]\n",
      "499                                       [got, steamed]\n",
      "500                                 [Puppet, government]\n",
      "501                                         [Push, boat]\n",
      "502                                [Rainbow, challenges]\n",
      "503                                   [Rainbow, flavors]\n",
      "504                                      [Rainbow, hope]\n",
      "505                                      [Rainbow, love]\n",
      "506                                [Raining, cats, dogs]\n",
      "507                                     [Reality, enemy]\n",
      "508                                          [Rug, Rats]\n",
      "509                                [Three, sheets, wind]\n",
      "510                              [Tiger, Cub, Economies]\n",
      "511                                        [Time, thief]\n",
      "512                         [Turkeys, voting, Christmas]\n",
      "513                                        [Walk, plank]\n",
      "514                                    [Wave, donations]\n",
      "515                                    [Wheels, justice]\n",
      "516                                        [Work, dried]\n",
      "Name: Phrase, Length: 501, dtype: object\n"
     ]
    }
   ],
   "source": [
    "import string\n",
    "x_train = df.iloc[: , 0].apply(text_cleaning)\n",
    "print(x_train)"
   ]
  },
  {
   "cell_type": "code",
   "execution_count": 82,
   "metadata": {},
   "outputs": [],
   "source": [
    "# importing count vectorizer to convert text data into numerical data\n",
    "from sklearn.feature_extraction.text import CountVectorizer\n",
    "bow_transformer = CountVectorizer(analyzer=text_cleaning).fit(df[\"Phrase\"])"
   ]
  },
  {
   "cell_type": "code",
   "execution_count": 83,
   "metadata": {},
   "outputs": [
    {
     "name": "stdout",
     "output_type": "stream",
     "text": [
      "CountVectorizer(analyzer=<function text_cleaning at 0x0000022E79F206A8>,\n",
      "        binary=False, decode_error='strict', dtype=<class 'numpy.int64'>,\n",
      "        encoding='utf-8', input='content', lowercase=True, max_df=1.0,\n",
      "        max_features=None, min_df=1, ngram_range=(1, 1), preprocessor=None,\n",
      "        stop_words=None, strip_accents=None,\n",
      "        token_pattern='(?u)\\\\b\\\\w\\\\w+\\\\b', tokenizer=None, vocabulary=None)\n"
     ]
    }
   ],
   "source": [
    "print(bow_transformer)"
   ]
  },
  {
   "cell_type": "code",
   "execution_count": 84,
   "metadata": {},
   "outputs": [
    {
     "name": "stdout",
     "output_type": "stream",
     "text": [
      "  (0, 445)\t1\n",
      "  (0, 483)\t1\n",
      "  (0, 785)\t1\n",
      "  (1, 598)\t1\n",
      "  (1, 658)\t1\n",
      "  (1, 797)\t1\n",
      "  (1, 852)\t1\n",
      "  (2, 334)\t1\n",
      "  (2, 1139)\t1\n",
      "  (3, 201)\t1\n",
      "  (3, 382)\t1\n",
      "  (3, 1009)\t1\n",
      "  (3, 1100)\t1\n",
      "  (4, 779)\t1\n",
      "  (5, 427)\t1\n",
      "  (5, 1005)\t1\n",
      "  (6, 106)\t1\n",
      "  (6, 480)\t1\n",
      "  (6, 510)\t1\n",
      "  (7, 355)\t1\n",
      "  (7, 415)\t1\n",
      "  (7, 758)\t1\n",
      "  (7, 877)\t1\n",
      "  (8, 745)\t1\n",
      "  (8, 767)\t1\n",
      "  :\t:\n",
      "  (490, 318)\t1\n",
      "  (490, 422)\t1\n",
      "  (491, 135)\t1\n",
      "  (491, 464)\t1\n",
      "  (492, 132)\t1\n",
      "  (492, 137)\t1\n",
      "  (493, 161)\t1\n",
      "  (493, 896)\t1\n",
      "  (493, 1107)\t1\n",
      "  (494, 41)\t1\n",
      "  (494, 51)\t1\n",
      "  (494, 163)\t1\n",
      "  (495, 165)\t1\n",
      "  (495, 1017)\t1\n",
      "  (496, 33)\t1\n",
      "  (496, 169)\t1\n",
      "  (496, 1069)\t1\n",
      "  (497, 173)\t1\n",
      "  (497, 799)\t1\n",
      "  (498, 176)\t1\n",
      "  (498, 423)\t1\n",
      "  (499, 180)\t1\n",
      "  (499, 644)\t1\n",
      "  (500, 183)\t1\n",
      "  (500, 433)\t1\n"
     ]
    }
   ],
   "source": [
    "title_bow = bow_transformer.transform(df[\"Phrase\"])\n",
    "print(title_bow)"
   ]
  },
  {
   "cell_type": "code",
   "execution_count": 85,
   "metadata": {},
   "outputs": [
    {
     "name": "stdout",
     "output_type": "stream",
     "text": [
      "  (0, 785)\t0.6020189188852012\n",
      "  (0, 483)\t0.5646119115393746\n",
      "  (0, 445)\t0.5646119115393746\n",
      "  (1, 852)\t0.4837193388201771\n",
      "  (1, 797)\t0.4837193388201771\n",
      "  (1, 658)\t0.515767002871811\n",
      "  (1, 598)\t0.515767002871811\n",
      "  (2, 1139)\t0.7294046904858382\n",
      "  (2, 334)\t0.6840824493416409\n",
      "  (3, 1100)\t0.4518817799344113\n",
      "  (3, 1009)\t0.5256994146465892\n",
      "  (3, 382)\t0.493034590920125\n",
      "  (3, 201)\t0.5256994146465892\n",
      "  (4, 779)\t1.0\n",
      "  (5, 1005)\t0.7071067811865476\n",
      "  (5, 427)\t0.7071067811865476\n",
      "  (6, 510)\t0.5795835758260646\n",
      "  (6, 480)\t0.5312066591032819\n",
      "  (6, 106)\t0.6179824948629224\n",
      "  (7, 877)\t0.5171650424616799\n",
      "  (7, 758)\t0.44454578680584345\n",
      "  (7, 415)\t0.5171650424616799\n",
      "  (7, 355)\t0.5171650424616799\n",
      "  (8, 767)\t0.7482069815567388\n",
      "  (8, 745)\t0.6634653817266983\n",
      "  :\t:\n",
      "  (490, 318)\t0.5646119115393747\n",
      "  (490, 131)\t0.6020189188852013\n",
      "  (491, 464)\t0.7071067811865476\n",
      "  (491, 135)\t0.7071067811865476\n",
      "  (492, 137)\t0.7071067811865476\n",
      "  (492, 132)\t0.7071067811865476\n",
      "  (493, 1107)\t0.5545452229997944\n",
      "  (493, 896)\t0.6204507968374419\n",
      "  (493, 161)\t0.5545452229997944\n",
      "  (494, 163)\t0.5773502691896257\n",
      "  (494, 51)\t0.5773502691896257\n",
      "  (494, 41)\t0.5773502691896257\n",
      "  (495, 1017)\t0.7071067811865476\n",
      "  (495, 165)\t0.7071067811865476\n",
      "  (496, 1069)\t0.5892977005432706\n",
      "  (496, 169)\t0.5892977005432706\n",
      "  (496, 33)\t0.5526811379709167\n",
      "  (497, 799)\t0.7071067811865476\n",
      "  (497, 173)\t0.7071067811865476\n",
      "  (498, 423)\t0.7071067811865476\n",
      "  (498, 176)\t0.7071067811865476\n",
      "  (499, 644)\t0.6840824493416409\n",
      "  (499, 180)\t0.7294046904858382\n",
      "  (500, 433)\t0.6840824493416409\n",
      "  (500, 183)\t0.7294046904858382\n",
      "(501, 1143)\n"
     ]
    }
   ],
   "source": [
    "# importing TfidfTransformer\n",
    "from sklearn.feature_extraction.text import TfidfTransformer\n",
    "tfidf_transformer = TfidfTransformer().fit(title_bow)\n",
    "\n",
    "title_tfidf = tfidf_transformer.transform(title_bow)\n",
    "print(title_tfidf) \n",
    "print(title_tfidf.shape)"
   ]
  },
  {
   "cell_type": "code",
   "execution_count": 86,
   "metadata": {},
   "outputs": [],
   "source": [
    "# seperating dependent and the independent features\n",
    "x = title_tfidf\n",
    "y = df.Detected_metaphors"
   ]
  },
  {
   "cell_type": "code",
   "execution_count": 87,
   "metadata": {},
   "outputs": [],
   "source": [
    "from sklearn.model_selection import train_test_split"
   ]
  },
  {
   "cell_type": "code",
   "execution_count": 88,
   "metadata": {},
   "outputs": [
    {
     "name": "stdout",
     "output_type": "stream",
     "text": [
      "size of x_train : (400, 1143)\n",
      "size of x_test : (101, 1143)\n",
      "size of y_train : (400,)\n",
      "size of y_test : (101,)\n"
     ]
    }
   ],
   "source": [
    "# spliting the dataset into testing and the trainig data\n",
    "x_train , x_test,y_train , y_test = train_test_split(x,y,test_size = 0.2, random_state = 0)\n",
    "print(\"size of x_train :\", x_train.shape)\n",
    "print(\"size of x_test :\" ,x_test.shape)\n",
    "print(\"size of y_train :\", y_train.shape)\n",
    "print(\"size of y_test :\", y_test.shape)"
   ]
  },
  {
   "cell_type": "code",
   "execution_count": 89,
   "metadata": {},
   "outputs": [],
   "source": [
    "# Multinoomial naive bayes\n",
    "from sklearn.naive_bayes import MultinomialNB\n",
    "model = MultinomialNB().fit(x_train ,y_train )"
   ]
  },
  {
   "cell_type": "code",
   "execution_count": 90,
   "metadata": {},
   "outputs": [
    {
     "name": "stdout",
     "output_type": "stream",
     "text": [
      "[1 0 1 1 1 1 1 0 0 1 1 1 1 1 1 1 1 1 0 1 1 1 1 1 1 1 1 1 1 1 1 1 0 0 1 1 1\n",
      " 1 1 1 1 1 1 1 1 1 1 1 1 1 1 0 1 1 1 0 1 1 0 0 1 1 1 1 1 1 1 1 0 1 1 1 1 1\n",
      " 1 1 1 1 1 1 1 1 1 1 1 1 1 1 1 1 1 1 1 0 1 1 1 1 1 0 1]\n"
     ]
    },
    {
     "data": {
      "text/plain": [
       "(101,)"
      ]
     },
     "execution_count": 90,
     "metadata": {},
     "output_type": "execute_result"
    }
   ],
   "source": [
    "all_prediction = model.predict(x_test)\n",
    "print(all_prediction)\n",
    "all_prediction.shape"
   ]
  },
  {
   "cell_type": "code",
   "execution_count": 91,
   "metadata": {},
   "outputs": [
    {
     "data": {
      "text/plain": [
       "array([[11, 25],\n",
       "       [ 2, 63]], dtype=int64)"
      ]
     },
     "execution_count": 91,
     "metadata": {},
     "output_type": "execute_result"
    }
   ],
   "source": [
    "# confusion matrix\n",
    "from sklearn.metrics import confusion_matrix\n",
    "confusion_matrix(y_test,all_prediction)"
   ]
  },
  {
   "cell_type": "code",
   "execution_count": 92,
   "metadata": {},
   "outputs": [
    {
     "data": {
      "text/plain": [
       "0.7326732673267327"
      ]
     },
     "execution_count": 92,
     "metadata": {},
     "output_type": "execute_result"
    }
   ],
   "source": [
    "model.score(x_test , y_test)"
   ]
  },
  {
   "cell_type": "code",
   "execution_count": 93,
   "metadata": {},
   "outputs": [
    {
     "name": "stdout",
     "output_type": "stream",
     "text": [
      "accuracy: 0.7326732673267327\n"
     ]
    }
   ],
   "source": [
    "# accuracy of multinomial naive bayes classifier\n",
    "from sklearn.metrics import accuracy_score\n",
    "print(\"accuracy:\",accuracy_score(y_test, all_prediction))"
   ]
  },
  {
   "cell_type": "code",
   "execution_count": 94,
   "metadata": {},
   "outputs": [
    {
     "data": {
      "text/plain": [
       "<matplotlib.axes._subplots.AxesSubplot at 0x22e79f9e390>"
      ]
     },
     "execution_count": 94,
     "metadata": {},
     "output_type": "execute_result"
    },
    {
     "data": {
      "image/png": "[encoded data removed]",
      "text/plain": [
       "<Figure size 432x288 with 2 Axes>"
      ]
     },
     "metadata": {
      "needs_background": "light"
     },
     "output_type": "display_data"
    }
   ],
   "source": [
    "# confusion matrix\n",
    "import scikitplot as skplt\n",
    "skplt.metrics.plot_confusion_matrix(y_test,all_prediction)"
   ]
  },
  {
   "cell_type": "code",
   "execution_count": 95,
   "metadata": {},
   "outputs": [
    {
     "name": "stdout",
     "output_type": "stream",
     "text": [
      "0\n"
     ]
    }
   ],
   "source": [
    "testing = \" this is a good thing\"\n",
    "print(model.predict(bow_transformer.transform([testing]))[0])"
   ]
  },
  {
   "cell_type": "code",
   "execution_count": 96,
   "metadata": {},
   "outputs": [
    {
     "name": "stdout",
     "output_type": "stream",
     "text": [
      "1\n"
     ]
    }
   ],
   "source": [
    "testing = \"man is a lion\"\n",
    "print(model.predict(bow_transformer.transform([testing]))[0])"
   ]
  },
  {
   "cell_type": "code",
   "execution_count": 97,
   "metadata": {},
   "outputs": [
    {
     "name": "stdout",
     "output_type": "stream",
     "text": [
      "training set score:0.9375\n",
      "testing set score:0.7326732673267327\n"
     ]
    }
   ],
   "source": [
    "# training and testing score of Multinomial naive bayes classifier\n",
    "model.fit(x_train , y_train)\n",
    "print(\"training set score:{}\".format(model.score(x_train,y_train)))\n",
    "print(\"testing set score:{}\".format(model.score(x_test,y_test)))"
   ]
  },
  {
   "cell_type": "code",
   "execution_count": 98,
   "metadata": {},
   "outputs": [
    {
     "data": {
      "text/plain": [
       "<matplotlib.axes._subplots.AxesSubplot at 0x22e7a053f98>"
      ]
     },
     "execution_count": 98,
     "metadata": {},
     "output_type": "execute_result"
    },
    {
     "data": {
      "image/png": "[encoded data removed]",
      "text/plain": [
       "<Figure size 432x288 with 2 Axes>"
      ]
     },
     "metadata": {
      "needs_background": "light"
     },
     "output_type": "display_data"
    }
   ],
   "source": [
    "all_prediction = model.predict(x_test)\n",
    "skplt.metrics.plot_confusion_matrix(y_test,all_prediction)"
   ]
  },
  {
   "cell_type": "code",
   "execution_count": 99,
   "metadata": {},
   "outputs": [
    {
     "name": "stdout",
     "output_type": "stream",
     "text": [
      "training set score:1.0\n",
      "testing set score:0.5247524752475248\n"
     ]
    }
   ],
   "source": [
    "# RandomForestClassifier\n",
    "# training and testing score of RandomForestClassifier classifier\n",
    "from sklearn.ensemble import RandomForestClassifier\n",
    "rn = RandomForestClassifier(n_estimators=100)\n",
    "rn.fit(x_train , y_train)\n",
    "print(\"training set score:{}\".format(rn.score(x_train,y_train)))\n",
    "print(\"testing set score:{}\".format(rn.score(x_test,y_test)))"
   ]
  },
  {
   "cell_type": "code",
   "execution_count": 100,
   "metadata": {},
   "outputs": [
    {
     "data": {
      "text/plain": [
       "<matplotlib.axes._subplots.AxesSubplot at 0x22e7a06bcf8>"
      ]
     },
     "execution_count": 100,
     "metadata": {},
     "output_type": "execute_result"
    },
    {
     "data": {
      "image/png": "[encoded data removed]",
      "text/plain": [
       "<Figure size 432x288 with 2 Axes>"
      ]
     },
     "metadata": {
      "needs_background": "light"
     },
     "output_type": "display_data"
    }
   ],
   "source": [
    "all_prediction = rn.predict(x_test)\n",
    "skplt.metrics.plot_confusion_matrix(y_test,all_prediction)"
   ]
  },
  {
   "cell_type": "code",
   "execution_count": 101,
   "metadata": {},
   "outputs": [
    {
     "name": "stdout",
     "output_type": "stream",
     "text": [
      "training set score:0.7675\n",
      "testing set score:0.693069306930693\n"
     ]
    },
    {
     "name": "stderr",
     "output_type": "stream",
     "text": [
      "C:\\ProgramData\\Anaconda3\\lib\\site-packages\\sklearn\\linear_model\\logistic.py:433: FutureWarning: Default solver will be changed to 'lbfgs' in 0.22. Specify a solver to silence this warning.\n",
      "  FutureWarning)\n"
     ]
    }
   ],
   "source": [
    "# importing LogisticRegressor\n",
    "# training and testing score of LogisticRegression\n",
    "from sklearn.linear_model import LogisticRegression\n",
    "lr = LogisticRegression()\n",
    "lr.fit(x_train , y_train)\n",
    "print(\"training set score:{}\".format(lr.score(x_train,y_train)))\n",
    "print(\"testing set score:{}\".format(lr.score(x_test,y_test)))"
   ]
  },
  {
   "cell_type": "code",
   "execution_count": 102,
   "metadata": {},
   "outputs": [
    {
     "data": {
      "text/plain": [
       "<matplotlib.axes._subplots.AxesSubplot at 0x22e7a36cb38>"
      ]
     },
     "execution_count": 102,
     "metadata": {},
     "output_type": "execute_result"
    },
    {
     "data": {
      "image/png": "[encoded data removed]",
      "text/plain": [
       "<Figure size 432x288 with 2 Axes>"
      ]
     },
     "metadata": {
      "needs_background": "light"
     },
     "output_type": "display_data"
    }
   ],
   "source": [
    "all_prediction = lr.predict(x_test)\n",
    "skplt.metrics.plot_confusion_matrix(y_test,all_prediction)"
   ]
  },
  {
   "cell_type": "code",
   "execution_count": 103,
   "metadata": {},
   "outputs": [
    {
     "name": "stdout",
     "output_type": "stream",
     "text": [
      "training set score:0.9775\n",
      "testing set score:0.7524752475247525\n"
     ]
    }
   ],
   "source": [
    "from sklearn.svm import SVC # \"Support vector classifier\"\n",
    "classifier = SVC(kernel='linear', random_state=0)  \n",
    "classifier.fit(x_train, y_train)\n",
    "print(\"training set score:{}\".format(classifier.score(x_train,y_train)))\n",
    "print(\"testing set score:{}\".format(classifier.score(x_test,y_test)))"
   ]
  },
  {
   "cell_type": "code",
   "execution_count": 104,
   "metadata": {},
   "outputs": [
    {
     "data": {
      "text/plain": [
       "<matplotlib.axes._subplots.AxesSubplot at 0x22e7973fac8>"
      ]
     },
     "execution_count": 104,
     "metadata": {},
     "output_type": "execute_result"
    },
    {
     "data": {
      "image/png": "[encoded data removed]",
      "text/plain": [
       "<Figure size 432x288 with 2 Axes>"
      ]
     },
     "metadata": {
      "needs_background": "light"
     },
     "output_type": "display_data"
    }
   ],
   "source": [
    "all_prediction = classifier.predict(x_test)\n",
    "skplt.metrics.plot_confusion_matrix(y_test,all_prediction)"
   ]
  },
  {
   "cell_type": "code",
   "execution_count": 105,
   "metadata": {},
   "outputs": [
    {
     "name": "stdout",
     "output_type": "stream",
     "text": [
      "1\n",
      "0\n",
      "1\n",
      "1\n"
     ]
    }
   ],
   "source": [
    "# testing sample\n",
    "testing = \"man is a lion\"\n",
    "print(model.predict(bow_transformer.transform([testing]))[0])\n",
    "print(rn.predict(bow_transformer.transform([testing]))[0])\n",
    "print(lr.predict(bow_transformer.transform([testing]))[0])\n",
    "print(classifier.predict(bow_transformer.transform([testing]))[0])"
   ]
  }
 ],
 "metadata": {
  "kernelspec": {
   "display_name": "Python 3",
   "language": "python",
   "name": "python3"
  },
  "language_info": {
   "codemirror_mode": {
    "name": "ipython",
    "version": 3
   },
   "file_extension": ".py",
   "mimetype": "text/x-python",
   "name": "python",
   "nbconvert_exporter": "python",
   "pygments_lexer": "ipython3",
   "version": "3.7.1"
  }
 },
 "nbformat": 4,
 "nbformat_minor": 2
}
